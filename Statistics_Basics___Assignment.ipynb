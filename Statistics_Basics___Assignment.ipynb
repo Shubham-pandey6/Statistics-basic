{
  "nbformat": 4,
  "nbformat_minor": 0,
  "metadata": {
    "colab": {
      "provenance": []
    },
    "kernelspec": {
      "name": "python3",
      "display_name": "Python 3"
    },
    "language_info": {
      "name": "python"
    }
  },
  "cells": [
    {
      "cell_type": "markdown",
      "source": [
        "Statistics Basics | Assignment\n",
        "\n",
        "Question 1: Difference between Descriptive and Inferential Statistics\n",
        "\n",
        "Descriptive statistics summarize and organize characteristics of a data set, using measures like mean, median, mode, and standard deviation. For example, calculating the average exam score of a class gives an overview of their performance. Inferential statistics, however, make predictions or inferences about a larger population based on a sample, such as using survey results from 100 customers to estimate satisfaction levels among all customers of a company.\n",
        "\n",
        "Question 2: Sampling in Statistics — Random vs. Stratified Sampling\n",
        "\n",
        "Sampling involves selecting a subset from a population for analysis. Random sampling gives every member an equal chance of being selected, reducing bias. Stratified sampling divides the population into subgroups (strata) based on specific traits, then samples from each group to ensure representation. For instance, surveying a school using random sampling means picking students randomly, while stratified sampling could involve choosing equal numbers from each grade level.\n",
        "\n",
        "Question 3: Define mean, median, and mode. Explain why these measures of central tendency are important.\n",
        "\n",
        "•\tMean: The average, calculated by summing all values and dividing by the count.\n",
        "•\tMedian: The middle value when data is sorted.\n",
        "•\tMode: The most frequently occurring value.\n",
        "These measures of central tendency help describe data distributions and identify typical values for decision-making in fields like business and healthcare.\n",
        "\n",
        "\n",
        "Question 4: Explain skewness and kurtosis. What does a positive skew imply about the data?\n",
        "\n",
        "Skewness measures asymmetry in the data distribution, while kurtosis reflects the \"tailedness\" of the data. A positive skew means the tail on the right side is longer, indicating more unusually high values (outliers), and most observations are lower than the mean.\n",
        "\n",
        "Question 5: Implement a Python program to compute the mean, median, and mode of\n",
        "a given list of numbers.\n",
        "numbers = [12, 15, 12, 18, 19, 12, 20, 22, 19, 19, 24, 24, 24, 26, 28]\n",
        "(Include your Python code and output in the code box below.)\n",
        ".\n"
      ],
      "metadata": {
        "id": "C8RXmhOHMzEl"
      }
    },
    {
      "cell_type": "code",
      "source": [
        "import statistics\n",
        "\n",
        "numbers = [12, 15, 12, 18, 19, 12, 20, 22, 19, 19, 24, 24, 24, 26, 28]\n",
        "\n",
        "mean = statistics.mean(numbers)\n",
        "median = statistics.median(numbers)\n",
        "mode = statistics.mode(numbers)\n",
        "\n",
        "print(\"Mean:\", mean)\n",
        "print(\"Median:\", median)\n",
        "print(\"Mode:\", mode)\n"
      ],
      "metadata": {
        "colab": {
          "base_uri": "https://localhost:8080/"
        },
        "id": "k_E9kTZgXSjA",
        "outputId": "062d29de-a354-48dd-e202-bbdd64b84fee"
      },
      "execution_count": 3,
      "outputs": [
        {
          "output_type": "stream",
          "name": "stdout",
          "text": [
            "Mean: 19.6\n",
            "Median: 19\n",
            "Mode: 12\n"
          ]
        }
      ]
    },
    {
      "cell_type": "code",
      "source": [
        "'''Question 6: Compute the covariance and correlation coefficient between the following\n",
        "#two datasets provided as lists in Python:\n",
        "list_x = [10, 20, 30, 40, 50]\n",
        "list_y = [15, 25, 35, 45, 60]\n",
        "(Include your Python code and output in the code box below.) '''\n",
        "\n",
        "import numpy as np\n",
        "\n",
        "list_x = [10, 20, 30, 40, 50]\n",
        "list_y = [15, 25, 35, 45, 60]\n",
        "\n",
        "cov_matrix = np.cov(list_x, list_y)\n",
        "covariance = cov_matrix[0, 1]\n",
        "correlation = np.corrcoef(list_x, list_y)[0, 1]\n",
        "\n",
        "print(\"Covariance:\", covariance)\n",
        "print(\"Correlation coefficient:\", correlation)\n"
      ],
      "metadata": {
        "colab": {
          "base_uri": "https://localhost:8080/"
        },
        "id": "bJK5IvY6Yill",
        "outputId": "b19851e7-5680-48e8-ea0f-5a4088d7caf0"
      },
      "execution_count": 4,
      "outputs": [
        {
          "output_type": "stream",
          "name": "stdout",
          "text": [
            "Covariance: 275.0\n",
            "Correlation coefficient: 0.995893206467704\n"
          ]
        }
      ]
    },
    {
      "cell_type": "code",
      "source": [
        "'''Question 7: Write a Python script to draw a boxplot for the following numeric list and\n",
        "identify its outliers. Explain the result:\n",
        "data = [12, 14, 14, 15, 18, 19, 19, 21, 22, 22, 23, 23, 24, 26, 29, 35]\n",
        "(Include your Python code and output in the code box below.) '''\n",
        "\n",
        "#Explanation:\n",
        "#The boxplot visually displays the distribution and identifies outliers. Here, 35 likely appears as an outlier, far from other values in the upper tail\n",
        "\n",
        "import matplotlib.pyplot as plt\n",
        "\n",
        "data = [12, 14, 14, 15, 18, 19, 19, 21, 22, 22, 23, 23, 24, 26, 29, 35]\n",
        "plt.boxplot(data)\n",
        "plt.title('Boxplot of Data')\n",
        "plt.show()\n"
      ],
      "metadata": {
        "colab": {
          "base_uri": "https://localhost:8080/",
          "height": 452
        },
        "id": "5PXDcsdQZQB9",
        "outputId": "6c98f9c9-55c0-4bb8-af3f-03a3393bdae4"
      },
      "execution_count": 8,
      "outputs": [
        {
          "output_type": "display_data",
          "data": {
            "text/plain": [
              "<Figure size 640x480 with 1 Axes>"
            ],
            "image/png": "[encoded data removed]"
          },
          "metadata": {}
        }
      ]
    },
    {
      "cell_type": "code",
      "execution_count": 7,
      "metadata": {
        "id": "VC7MlMzbps_M",
        "colab": {
          "base_uri": "https://localhost:8080/"
        },
        "outputId": "6c3d98ef-79e9-4055-d943-46cbc6fdabf6"
      },
      "outputs": [
        {
          "output_type": "stream",
          "name": "stdout",
          "text": [
            "Correlation: 0.9935824101653329\n"
          ]
        }
      ],
      "source": [
        "'''Question 8: You are working as a data analyst in an e-commerce company. The\n",
        "marketing team wants to know if there is a relationship between advertising spend and\n",
        "daily sales.\n",
        "● Explain how you would use covariance and correlation to explore this\n",
        "relationship.\n",
        "● Write Python code to compute the correlation between the two lists:\n",
        "advertising_spend = [200, 250, 300, 400, 500]\n",
        "daily_sales = [2200, 2450, 2750, 3200, 4000]\n",
        "'''\n",
        "#Covariance: Assesses how two variables change together, but doesn’t indicate strength.\n",
        "\n",
        "#Correlation: Measures both direction and strength, ranging from -1 to +1. A high positive value signals a strong direct relationship.\n",
        "\n",
        "advertising_spend = [200, 250, 300, 400, 500]\n",
        "daily_sales = [2200, 2450, 2750, 3200, 4000]\n",
        "\n",
        "correlation = np.corrcoef(advertising_spend, daily_sales)[0, 1]\n",
        "print(\"Correlation:\", correlation)\n"
      ]
    },
    {
      "cell_type": "code",
      "source": [
        "'''Question 9: Your team has collected customer satisfaction survey data on a scale of\n",
        "1-10 and wants to understand its distribution before launching a new product.\n",
        "● Explain which summary statistics and visualizations (e.g. mean, standard\n",
        "deviation, histogram) you’d use.\n",
        "● Write Python code to create a histogram using Matplotlib for the survey data:\n",
        "survey_scores = [7, 8, 5, 9, 6, 7, 8, 9, 10, 4, 7, 6, 9, 8, 7]\n",
        "'''\n",
        "'''\n",
        "Explanation:\n",
        "A histogram reveals concentration around higher scores (7–9). Calculating the mean and standard deviation further summarizes satisfaction levels and variabilit\n",
        "import matplotlib.pyplot as plt'''\n",
        "\n",
        "survey_scores = [7, 8, 5, 9, 6, 7, 8, 9, 10, 4, 7, 6, 9, 8, 7]\n",
        "plt.hist(survey_scores, bins=7)\n",
        "plt.title('Distribution of Survey Scores')\n",
        "plt.xlabel('Score')\n",
        "plt.ylabel('Frequency')\n",
        "plt.show()\n"
      ],
      "metadata": {
        "id": "HJfTgub6M7M5",
        "colab": {
          "base_uri": "https://localhost:8080/",
          "height": 472
        },
        "outputId": "6a29d718-38f2-40cc-a2ae-0b7640b46498"
      },
      "execution_count": 1,
      "outputs": [
        {
          "output_type": "display_data",
          "data": {
            "text/plain": [
              "<Figure size 640x480 with 1 Axes>"
            ],
            "image/png": "[encoded data removed]"
          },
          "metadata": {}
        }
      ]
    }
  ]
}